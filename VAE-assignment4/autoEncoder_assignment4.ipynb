{
  "nbformat": 4,
  "nbformat_minor": 0,
  "metadata": {
    "colab": {
      "provenance": []
    },
    "kernelspec": {
      "name": "python3",
      "display_name": "Python 3"
    },
    "language_info": {
      "name": "python"
    },
    "widgets": {
      "application/vnd.jupyter.widget-state+json": {
        "d380809e1ced49929d311388d21d931d": {
          "model_module": "@jupyter-widgets/controls",
          "model_name": "HBoxModel",
          "model_module_version": "1.5.0",
          "state": {
            "_dom_classes": [],
            "_model_module": "@jupyter-widgets/controls",
            "_model_module_version": "1.5.0",
            "_model_name": "HBoxModel",
            "_view_count": null,
            "_view_module": "@jupyter-widgets/controls",
            "_view_module_version": "1.5.0",
            "_view_name": "HBoxView",
            "box_style": "",
            "children": [
              "IPY_MODEL_23fe4496eccc41bbb95048c0573b5331",
              "IPY_MODEL_973ab0b7f9524e0ab302a30f367e25e3",
              "IPY_MODEL_18471c58daee4893bd86d216c72ccb05"
            ],
            "layout": "IPY_MODEL_f9dc43f0aa50489085f1e611e86ce059"
          }
        },
        "23fe4496eccc41bbb95048c0573b5331": {
          "model_module": "@jupyter-widgets/controls",
          "model_name": "HTMLModel",
          "model_module_version": "1.5.0",
          "state": {
            "_dom_classes": [],
            "_model_module": "@jupyter-widgets/controls",
            "_model_module_version": "1.5.0",
            "_model_name": "HTMLModel",
            "_view_count": null,
            "_view_module": "@jupyter-widgets/controls",
            "_view_module_version": "1.5.0",
            "_view_name": "HTMLView",
            "description": "",
            "description_tooltip": null,
            "layout": "IPY_MODEL_934b745bf8694045b40ace6076923902",
            "placeholder": "​",
            "style": "IPY_MODEL_b45e1e915efd4cb8a576aaa30772a510",
            "value": "100%"
          }
        },
        "973ab0b7f9524e0ab302a30f367e25e3": {
          "model_module": "@jupyter-widgets/controls",
          "model_name": "FloatProgressModel",
          "model_module_version": "1.5.0",
          "state": {
            "_dom_classes": [],
            "_model_module": "@jupyter-widgets/controls",
            "_model_module_version": "1.5.0",
            "_model_name": "FloatProgressModel",
            "_view_count": null,
            "_view_module": "@jupyter-widgets/controls",
            "_view_module_version": "1.5.0",
            "_view_name": "ProgressView",
            "bar_style": "success",
            "description": "",
            "description_tooltip": null,
            "layout": "IPY_MODEL_9f14b5c1b6b8490eb2108a30b062ea01",
            "max": 100,
            "min": 0,
            "orientation": "horizontal",
            "style": "IPY_MODEL_f88d2dbd934b436bb5e861dcaa6b100d",
            "value": 100
          }
        },
        "18471c58daee4893bd86d216c72ccb05": {
          "model_module": "@jupyter-widgets/controls",
          "model_name": "HTMLModel",
          "model_module_version": "1.5.0",
          "state": {
            "_dom_classes": [],
            "_model_module": "@jupyter-widgets/controls",
            "_model_module_version": "1.5.0",
            "_model_name": "HTMLModel",
            "_view_count": null,
            "_view_module": "@jupyter-widgets/controls",
            "_view_module_version": "1.5.0",
            "_view_name": "HTMLView",
            "description": "",
            "description_tooltip": null,
            "layout": "IPY_MODEL_a2840956d872470faf117bc55d926568",
            "placeholder": "​",
            "style": "IPY_MODEL_092495eb1aff4092ac54711505028915",
            "value": " 100/100 [1:27:14&lt;00:00, 52.78s/it]"
          }
        },
        "f9dc43f0aa50489085f1e611e86ce059": {
          "model_module": "@jupyter-widgets/base",
          "model_name": "LayoutModel",
          "model_module_version": "1.2.0",
          "state": {
            "_model_module": "@jupyter-widgets/base",
            "_model_module_version": "1.2.0",
            "_model_name": "LayoutModel",
            "_view_count": null,
            "_view_module": "@jupyter-widgets/base",
            "_view_module_version": "1.2.0",
            "_view_name": "LayoutView",
            "align_content": null,
            "align_items": null,
            "align_self": null,
            "border": null,
            "bottom": null,
            "display": null,
            "flex": null,
            "flex_flow": null,
            "grid_area": null,
            "grid_auto_columns": null,
            "grid_auto_flow": null,
            "grid_auto_rows": null,
            "grid_column": null,
            "grid_gap": null,
            "grid_row": null,
            "grid_template_areas": null,
            "grid_template_columns": null,
            "grid_template_rows": null,
            "height": null,
            "justify_content": null,
            "justify_items": null,
            "left": null,
            "margin": null,
            "max_height": null,
            "max_width": null,
            "min_height": null,
            "min_width": null,
            "object_fit": null,
            "object_position": null,
            "order": null,
            "overflow": null,
            "overflow_x": null,
            "overflow_y": null,
            "padding": null,
            "right": null,
            "top": null,
            "visibility": null,
            "width": null
          }
        },
        "934b745bf8694045b40ace6076923902": {
          "model_module": "@jupyter-widgets/base",
          "model_name": "LayoutModel",
          "model_module_version": "1.2.0",
          "state": {
            "_model_module": "@jupyter-widgets/base",
            "_model_module_version": "1.2.0",
            "_model_name": "LayoutModel",
            "_view_count": null,
            "_view_module": "@jupyter-widgets/base",
            "_view_module_version": "1.2.0",
            "_view_name": "LayoutView",
            "align_content": null,
            "align_items": null,
            "align_self": null,
            "border": null,
            "bottom": null,
            "display": null,
            "flex": null,
            "flex_flow": null,
            "grid_area": null,
            "grid_auto_columns": null,
            "grid_auto_flow": null,
            "grid_auto_rows": null,
            "grid_column": null,
            "grid_gap": null,
            "grid_row": null,
            "grid_template_areas": null,
            "grid_template_columns": null,
            "grid_template_rows": null,
            "height": null,
            "justify_content": null,
            "justify_items": null,
            "left": null,
            "margin": null,
            "max_height": null,
            "max_width": null,
            "min_height": null,
            "min_width": null,
            "object_fit": null,
            "object_position": null,
            "order": null,
            "overflow": null,
            "overflow_x": null,
            "overflow_y": null,
            "padding": null,
            "right": null,
            "top": null,
            "visibility": null,
            "width": null
          }
        },
        "b45e1e915efd4cb8a576aaa30772a510": {
          "model_module": "@jupyter-widgets/controls",
          "model_name": "DescriptionStyleModel",
          "model_module_version": "1.5.0",
          "state": {
            "_model_module": "@jupyter-widgets/controls",
            "_model_module_version": "1.5.0",
            "_model_name": "DescriptionStyleModel",
            "_view_count": null,
            "_view_module": "@jupyter-widgets/base",
            "_view_module_version": "1.2.0",
            "_view_name": "StyleView",
            "description_width": ""
          }
        },
        "9f14b5c1b6b8490eb2108a30b062ea01": {
          "model_module": "@jupyter-widgets/base",
          "model_name": "LayoutModel",
          "model_module_version": "1.2.0",
          "state": {
            "_model_module": "@jupyter-widgets/base",
            "_model_module_version": "1.2.0",
            "_model_name": "LayoutModel",
            "_view_count": null,
            "_view_module": "@jupyter-widgets/base",
            "_view_module_version": "1.2.0",
            "_view_name": "LayoutView",
            "align_content": null,
            "align_items": null,
            "align_self": null,
            "border": null,
            "bottom": null,
            "display": null,
            "flex": null,
            "flex_flow": null,
            "grid_area": null,
            "grid_auto_columns": null,
            "grid_auto_flow": null,
            "grid_auto_rows": null,
            "grid_column": null,
            "grid_gap": null,
            "grid_row": null,
            "grid_template_areas": null,
            "grid_template_columns": null,
            "grid_template_rows": null,
            "height": null,
            "justify_content": null,
            "justify_items": null,
            "left": null,
            "margin": null,
            "max_height": null,
            "max_width": null,
            "min_height": null,
            "min_width": null,
            "object_fit": null,
            "object_position": null,
            "order": null,
            "overflow": null,
            "overflow_x": null,
            "overflow_y": null,
            "padding": null,
            "right": null,
            "top": null,
            "visibility": null,
            "width": null
          }
        },
        "f88d2dbd934b436bb5e861dcaa6b100d": {
          "model_module": "@jupyter-widgets/controls",
          "model_name": "ProgressStyleModel",
          "model_module_version": "1.5.0",
          "state": {
            "_model_module": "@jupyter-widgets/controls",
            "_model_module_version": "1.5.0",
            "_model_name": "ProgressStyleModel",
            "_view_count": null,
            "_view_module": "@jupyter-widgets/base",
            "_view_module_version": "1.2.0",
            "_view_name": "StyleView",
            "bar_color": null,
            "description_width": ""
          }
        },
        "a2840956d872470faf117bc55d926568": {
          "model_module": "@jupyter-widgets/base",
          "model_name": "LayoutModel",
          "model_module_version": "1.2.0",
          "state": {
            "_model_module": "@jupyter-widgets/base",
            "_model_module_version": "1.2.0",
            "_model_name": "LayoutModel",
            "_view_count": null,
            "_view_module": "@jupyter-widgets/base",
            "_view_module_version": "1.2.0",
            "_view_name": "LayoutView",
            "align_content": null,
            "align_items": null,
            "align_self": null,
            "border": null,
            "bottom": null,
            "display": null,
            "flex": null,
            "flex_flow": null,
            "grid_area": null,
            "grid_auto_columns": null,
            "grid_auto_flow": null,
            "grid_auto_rows": null,
            "grid_column": null,
            "grid_gap": null,
            "grid_row": null,
            "grid_template_areas": null,
            "grid_template_columns": null,
            "grid_template_rows": null,
            "height": null,
            "justify_content": null,
            "justify_items": null,
            "left": null,
            "margin": null,
            "max_height": null,
            "max_width": null,
            "min_height": null,
            "min_width": null,
            "object_fit": null,
            "object_position": null,
            "order": null,
            "overflow": null,
            "overflow_x": null,
            "overflow_y": null,
            "padding": null,
            "right": null,
            "top": null,
            "visibility": null,
            "width": null
          }
        },
        "092495eb1aff4092ac54711505028915": {
          "model_module": "@jupyter-widgets/controls",
          "model_name": "DescriptionStyleModel",
          "model_module_version": "1.5.0",
          "state": {
            "_model_module": "@jupyter-widgets/controls",
            "_model_module_version": "1.5.0",
            "_model_name": "DescriptionStyleModel",
            "_view_count": null,
            "_view_module": "@jupyter-widgets/base",
            "_view_module_version": "1.2.0",
            "_view_name": "StyleView",
            "description_width": ""
          }
        }
      }
    }
  },
  "cells": [
    {
      "cell_type": "code",
      "execution_count": 1,
      "metadata": {
        "id": "KuJQxtif1jBc"
      },
      "outputs": [],
      "source": [
        "import torch\n",
        "import torch.optim as optim\n",
        "import torch.nn as nn\n",
        "import torch.nn.functional as F\n",
        "from torch.utils.data import DataLoader, Subset,Dataset\n",
        "import torchvision.datasets as datasets\n",
        "import torchvision.transforms as transforms\n",
        "\n",
        "from tqdm.notebook import tqdm\n",
        "import random\n",
        "import numpy as np\n",
        "import matplotlib.pyplot as plt\n",
        "import torchvision"
      ]
    },
    {
      "cell_type": "code",
      "source": [
        "device = torch.device('cuda:0' if torch.cuda.is_available() else 'cpu')"
      ],
      "metadata": {
        "id": "HodWv05V1xLb"
      },
      "execution_count": 2,
      "outputs": []
    },
    {
      "cell_type": "code",
      "source": [
        "seed = 42\n",
        "random.seed(seed)\n",
        "np.random.seed(seed)\n",
        "torch.manual_seed(seed)\n",
        "torch.cuda.manual_seed(seed)\n",
        "torch.cuda.manual_seed_all(seed)"
      ],
      "metadata": {
        "id": "xSO3SLp911uA"
      },
      "execution_count": 3,
      "outputs": []
    },
    {
      "cell_type": "code",
      "source": [
        "\n",
        "train_dataset = datasets.CIFAR10(root = 'dataset/',train = True, download = True, transform = transforms.ToTensor())\n",
        "test_dataset = datasets.CIFAR10(root = 'dataset/',train = False, download = True, transform = transforms.ToTensor())\n",
        ""
      ],
      "metadata": {
        "colab": {
          "base_uri": "https://localhost:8080/"
        },
        "id": "2yyvwHpD14qe",
        "outputId": "51e16b8b-961d-42a9-a0a7-f57729db079a"
      },
      "execution_count": 4,
      "outputs": [
        {
          "output_type": "stream",
          "name": "stdout",
          "text": [
            "Downloading https://www.cs.toronto.edu/~kriz/cifar-10-python.tar.gz to dataset/cifar-10-python.tar.gz\n"
          ]
        },
        {
          "output_type": "stream",
          "name": "stderr",
          "text": [
            "100%|██████████| 170498071/170498071 [00:02<00:00, 61572425.20it/s]\n"
          ]
        },
        {
          "output_type": "stream",
          "name": "stdout",
          "text": [
            "Extracting dataset/cifar-10-python.tar.gz to dataset/\n",
            "Files already downloaded and verified\n"
          ]
        }
      ]
    },
    {
      "cell_type": "code",
      "source": [
        "def create_subset(dataset:torch.utils.data.Dataset ,classes: list,n_eachclass: int) -> list:\n",
        "  '''\n",
        "  Determine indexes of samples that belongs to each desired class\n",
        "  return indexes of samples\n",
        "\n",
        "  '''\n",
        "  class_count = {cls : 0 for cls in classes }\n",
        "\n",
        "  subset_indexes = []\n",
        "  for i in range(len(dataset)):\n",
        "    x, y = dataset[i]\n",
        "    if (y in classes) and (y in class_count.keys()) and (class_count[y] < n_eachclass):\n",
        "      subset_indexes.append(i)\n",
        "      class_count[y] = class_count[y] + 1\n",
        "\n",
        "  return subset_indexes\n"
      ],
      "metadata": {
        "id": "vn9Z0MBB17cl"
      },
      "execution_count": 5,
      "outputs": []
    },
    {
      "cell_type": "code",
      "source": [
        "first_subset_idx = create_subset(train_dataset,[0,1,2,3,4],100)\n",
        ""
      ],
      "metadata": {
        "id": "SgH1TgX32Dpv"
      },
      "execution_count": 6,
      "outputs": []
    },
    {
      "cell_type": "code",
      "source": [
        "second_subset_idx = create_subset(train_dataset,[5,6,7,8,9],100)"
      ],
      "metadata": {
        "id": "AUvS-xep2ESl"
      },
      "execution_count": 7,
      "outputs": []
    },
    {
      "cell_type": "code",
      "source": [
        "first_subset = Subset(dataset=train_dataset,indices=first_subset_idx)\n",
        "second_subset = Subset(dataset=train_dataset,indices=second_subset_idx)"
      ],
      "metadata": {
        "id": "LQl6c-Ng2I81"
      },
      "execution_count": 8,
      "outputs": []
    },
    {
      "cell_type": "code",
      "source": [
        "class CustomDataset(Dataset):\n",
        "  \"\"\"\n",
        "  Implementing custom dataset to select random pair and compute the mean of them\n",
        "\n",
        "  \"\"\"\n",
        "  def __init__(self,first_dataset,second_dataset):\n",
        "    super(CustomDataset,self).__init__()\n",
        "    self.first = first_dataset\n",
        "    self.second = second_dataset\n",
        "\n",
        "  def __len__(self):\n",
        "    return len(self.first) + len(self.second)\n",
        "\n",
        "  def __getitem__(self,idx):\n",
        "    rand_1 = np.random.randint(len(self.first))\n",
        "    rand_2 = np.random.randint(len(self.second))\n",
        "\n",
        "    x_1,_ = self.first[rand_1]\n",
        "    x_2,_ = self.second[rand_2]\n",
        "\n",
        "    mean_x = (x_1 + x_2)/2\n",
        "\n",
        "    return x_1, x_2, mean_x\n",
        ""
      ],
      "metadata": {
        "id": "fZwTaAK_2Nf5"
      },
      "execution_count": 9,
      "outputs": []
    },
    {
      "cell_type": "code",
      "source": [
        "custom_dataset = CustomDataset(first_subset,second_subset)\n",
        "custom_loader = DataLoader(dataset = custom_dataset,batch_size = 32,shuffle = True,pin_memory=True)"
      ],
      "metadata": {
        "id": "fnIeh3Zw2P2w"
      },
      "execution_count": 10,
      "outputs": []
    },
    {
      "cell_type": "markdown",
      "source": [
        "# VAE"
      ],
      "metadata": {
        "id": "UhOutsMG2WFx"
      }
    },
    {
      "cell_type": "code",
      "source": [
        "class VAEEncoder(nn.Module):\n",
        "    def __init__(self, latent_dims):\n",
        "        super(Encoder, self).__init__()\n",
        "        self.conv1 = nn.Conv2d(3, 256, 3, stride=2, )\n",
        "        self.batch1 = nn.BatchNorm2d(256)\n",
        "        self.conv2 = nn.Conv2d(256, 128, 3, stride=2, )\n",
        "        self.batch2 = nn.BatchNorm2d(128)\n",
        "        self.conv3 = nn.Conv2d(128, 64, 3, stride=2, )\n",
        "        self.batch3 = nn.BatchNorm2d(64)\n",
        "        self.linear1 = nn.Linear(3*3*64, 128)\n",
        "        self.linear2 = nn.Linear(128, latent_dims)\n",
        "        self.linear3 = nn.Linear(128, latent_dims)\n",
        "\n",
        "    def reparameterize(self, mu, logVar):\n",
        "\n",
        "        std = torch.exp(logVar/2)\n",
        "        eps = torch.randn_like(std)\n",
        "        return mu + std * eps\n",
        "\n",
        "    def forward(self, x):\n",
        "\n",
        "        x = F.relu(self.batch1(self.conv1(x)))\n",
        "        x = F.relu(self.batch2(self.conv2(x)))\n",
        "        x = F.relu(self.batch3(self.conv3(x)))\n",
        "\n",
        "        x = torch.flatten(x, start_dim=1)\n",
        "        x = F.relu(self.linear1(x))\n",
        "\n",
        "        mu =  self.linear2(x)\n",
        "        logVar = self.linear3(x)\n",
        "\n",
        "        z = self.reparameterize(mu, logVar)\n",
        "\n",
        "        return mu, logVar,z"
      ],
      "metadata": {
        "id": "r1NjABDz2QlH"
      },
      "execution_count": 11,
      "outputs": []
    },
    {
      "cell_type": "code",
      "source": [
        "\n",
        "class VAEDecoder(nn.Module):\n",
        "\n",
        "    def __init__(self, latent_dims):\n",
        "        super().__init__()\n",
        "\n",
        "        self.latent_space = nn.Sequential(\n",
        "            nn.Linear(latent_dims, 128),\n",
        "            # nn.BatchNorm1d(128,),\n",
        "            nn.ReLU(True),\n",
        "            nn.Linear(128, 3 * 3 * 64),\n",
        "            # nn.BatchNorm1d(3 * 3 * 64),\n",
        "            nn.ReLU(True)\n",
        "        )\n",
        "\n",
        "        self.unflatten = nn.Unflatten(dim=1, unflattened_size=(64, 3, 3))\n",
        "\n",
        "        self.decoder= nn.Sequential(\n",
        "            nn.ConvTranspose2d(64, 128, 3, stride=2, ),\n",
        "            nn.BatchNorm2d(128),\n",
        "            nn.ReLU(True),\n",
        "            nn.ConvTranspose2d(128, 256, 3, stride=2, ),\n",
        "            nn.BatchNorm2d(256),\n",
        "            nn.ReLU(True),\n",
        "            nn.ConvTranspose2d(256, 3, 3, stride=2,output_padding =1 )\n",
        "        )\n",
        "\n",
        "    def forward(self, x):\n",
        "        x = self.latent_space(x)\n",
        "        x = self.unflatten(x)\n",
        "        x = self.decoder(x)\n",
        "        x = torch.sigmoid(x)\n",
        "        return x"
      ],
      "metadata": {
        "id": "8uiCyUnf2Yfd"
      },
      "execution_count": 12,
      "outputs": []
    },
    {
      "cell_type": "code",
      "source": [
        "class VAE(nn.Module):\n",
        "    def __init__(self, latent_dims):\n",
        "        super(VAE, self).__init__()\n",
        "        self.encoder = VAEEncoder(latent_dims)\n",
        "        self.decoder_1 = VAEDecoder(latent_dims)\n",
        "        self.decoder_2 = VAEDecoder(latent_dims)\n",
        "\n",
        "    def forward(self, x):\n",
        "        mu, logVar, z = self.encoder(x)\n",
        "\n",
        "        return mu, logVar,self.decoder_1(z), self.decoder_2(z)"
      ],
      "metadata": {
        "id": "8oe3Tf-h2biW"
      },
      "execution_count": 13,
      "outputs": []
    },
    {
      "cell_type": "code",
      "source": [
        "def final_loss(reconstruction_loss: float, mu: list, logvar: list) -> float:\n",
        "    \"\"\"\n",
        "    This function computes final loss of VAE, the reconstruction loss  and the\n",
        "    KL-Divergence.\n",
        "    \"\"\"\n",
        "\n",
        "    KLD = -0.5 * torch.sum(1 + logvar - mu.pow(2) - logvar.exp())\n",
        "    return reconstruction_loss + KLD"
      ],
      "metadata": {
        "id": "L8lpCz5D2eME"
      },
      "execution_count": 14,
      "outputs": []
    },
    {
      "cell_type": "markdown",
      "source": [
        "# AUTOENCODER"
      ],
      "metadata": {
        "id": "8slAFx6d2h6-"
      }
    },
    {
      "cell_type": "code",
      "source": [
        "class Encoder(nn.Module):\n",
        "  def __init__(self, in_channels=3, out_channels=16, latent_dim=128):\n",
        "    super(Encoder,self).__init__()\n",
        "\n",
        "    self.encoder = nn.Sequential(\n",
        "        nn.Conv2d(in_channels, out_channels, 3, padding=1),\n",
        "        nn.ReLU(True),\n",
        "        # nn.Conv2d(out_channels, out_channels, 3, padding=1),\n",
        "        # nn.ReLU(True),\n",
        "        nn.Conv2d(out_channels, 2*out_channels, 3, padding=1, stride=2),\n",
        "        nn.ReLU(True),\n",
        "        # nn.Conv2d(2*out_channels, 2*out_channels, 3, padding=1),\n",
        "        # nn.ReLU(True),\n",
        "        nn.Conv2d(2*out_channels, 4*out_channels, 3, padding=1, stride=2),\n",
        "        nn.ReLU(True),\n",
        "        # nn.Conv2d(4*out_channels, 4*out_channels, 3, padding=1),\n",
        "        # nn.ReLU(True),\n",
        "        # nn.Flatten(),\n",
        "        # nn.Linear(4*out_channels*8*8, latent_dim),\n",
        "        # nn.ReLU(True)\n",
        "    )\n",
        "\n",
        "  def forward(self, x):\n",
        "\n",
        "    return self.encoder(x)"
      ],
      "metadata": {
        "id": "wIYoO-bq2gVq"
      },
      "execution_count": 15,
      "outputs": []
    },
    {
      "cell_type": "code",
      "source": [
        "class Decoder(nn.Module):\n",
        "  def __init__(self, in_channels=3, out_channels=16, latent_dim=128):\n",
        "    super(Decoder,self).__init__()\n",
        "\n",
        "    self.out_channels = out_channels\n",
        "\n",
        "    self.latent_space = nn.Sequential(\n",
        "        nn.Linear(latent_dim, 4*out_channels*8*8),\n",
        "        nn.ReLU(True)\n",
        "    )\n",
        "\n",
        "    self.decoder = nn.Sequential(\n",
        "        # nn.ConvTranspose2d(4*out_channels, 4*out_channels, 3, padding=1),\n",
        "        # nn.ReLU(True),\n",
        "        nn.ConvTranspose2d(4*out_channels, 2*out_channels, 3, padding=1,\n",
        "                           stride=2, output_padding=1),\n",
        "        nn.ReLU(True),\n",
        "        # nn.ConvTranspose2d(2*out_channels, 2*out_channels, 3, padding=1),\n",
        "        # nn.ReLU(True),\n",
        "        nn.ConvTranspose2d(2*out_channels, out_channels, 3, padding=1,\n",
        "                           stride=2, output_padding=1),\n",
        "        nn.ReLU(True),\n",
        "        # nn.ConvTranspose2d(out_channels, out_channels, 3, padding=1),\n",
        "        # nn.ReLU(True),\n",
        "        nn.ConvTranspose2d(out_channels, in_channels, 3, padding=1),\n",
        "        nn.Sigmoid()\n",
        "    )\n",
        "\n",
        "  def forward(self, x):\n",
        "    # x = self.latent_space(x)\n",
        "    # x = x.view(-1, 4*self.out_channels, 8, 8)\n",
        "    x = self.decoder(x)\n",
        "    return x"
      ],
      "metadata": {
        "id": "VA2iJ2eF2nyY"
      },
      "execution_count": 16,
      "outputs": []
    },
    {
      "cell_type": "code",
      "source": [
        "\n",
        "class Autoencoder(nn.Module):\n",
        "    def __init__(self,out_channels,latent_dim):\n",
        "        super(Autoencoder, self).__init__()\n",
        "        self.encoder = Encoder(3,out_channels,latent_dim)\n",
        "        self.decoder_1 = Decoder(3,out_channels,latent_dim)\n",
        "        self.decoder_2 = Decoder(3,out_channels,latent_dim)\n",
        "\n",
        "    def forward(self, x):\n",
        "       x = self.encoder(x)\n",
        "       output1 = self.decoder_1(x)\n",
        "       output2 = self.decoder_2(x)\n",
        "       return output1,output2"
      ],
      "metadata": {
        "id": "dQtqi6jO2qcr"
      },
      "execution_count": 17,
      "outputs": []
    },
    {
      "cell_type": "markdown",
      "source": [
        "# U-NET"
      ],
      "metadata": {
        "id": "LNQSuZ002vNz"
      }
    },
    {
      "cell_type": "code",
      "source": [
        "class DoubleConv(nn.Module):\n",
        "    def __init__(self, in_channels, out_channels):\n",
        "        super(DoubleConv, self).__init__()\n",
        "        self.conv = nn.Sequential(\n",
        "            nn.Conv2d(in_channels, out_channels, 3, 1, 1, bias=False),\n",
        "            nn.BatchNorm2d(out_channels),\n",
        "            nn.ReLU(inplace=True),\n",
        "            nn.Conv2d(out_channels, out_channels, 3, 1, 1, bias=False),\n",
        "            nn.BatchNorm2d(out_channels),\n",
        "            nn.ReLU(inplace=True),\n",
        "        )\n",
        "\n",
        "    def forward(self, x):\n",
        "        return self.conv(x)\n",
        "\n",
        "class UNET(nn.Module):\n",
        "    def __init__(\n",
        "            self, in_channels=3, out_channels=1, features=[64, 128, 256, 512],\n",
        "    ):\n",
        "        super(UNET, self).__init__()\n",
        "        self.encoder = nn.ModuleList()\n",
        "        self.decoder_1 = nn.ModuleList()\n",
        "        self.decoder_2 = nn.ModuleList()\n",
        "\n",
        "        self.pool = nn.MaxPool2d(kernel_size=2, stride=2)\n",
        "\n",
        "\n",
        "        for feature in features:\n",
        "            self.encoder.append(DoubleConv(in_channels, feature))\n",
        "            in_channels = feature\n",
        "\n",
        "\n",
        "        for feature in reversed(features):\n",
        "            self.decoder_1.append(\n",
        "                nn.ConvTranspose2d(\n",
        "                    feature*2, feature, kernel_size=2, stride=2,\n",
        "                )\n",
        "            )\n",
        "            self.decoder_1.append(DoubleConv(feature*2, feature))\n",
        "\n",
        "        for feature in reversed(features):\n",
        "            self.decoder_2.append(\n",
        "                nn.ConvTranspose2d(\n",
        "                    feature*2, feature, kernel_size=2, stride=2,\n",
        "                )\n",
        "            )\n",
        "            self.decoder_2.append(DoubleConv(feature*2, feature))\n",
        "\n",
        "        self.bottleneck = DoubleConv(features[-1], features[-1]*2)\n",
        "        self.final_conv_1 = nn.Conv2d(features[0], out_channels, kernel_size=1)\n",
        "        self.final_conv_2 = nn.Conv2d(features[0], out_channels, kernel_size=1)\n",
        "\n",
        "\n",
        "    def forward(self, x):\n",
        "        skip_connections = []\n",
        "\n",
        "        for conv in self.encoder:\n",
        "            x = conv(x)\n",
        "            skip_connections.append(x)\n",
        "            x = self.pool(x)\n",
        "\n",
        "        x = self.bottleneck(x)\n",
        "        skip_connections = skip_connections[::-1]\n",
        "\n",
        "        out_1 = x\n",
        "        out_2 = x\n",
        "\n",
        "        for idx in range(0, len(self.decoder_1), 2):\n",
        "\n",
        "            out_1 = self.decoder_1[idx](out_1)\n",
        "            skip_connection = skip_connections[idx//2]\n",
        "\n",
        "            if out_1.shape != skip_connection.shape:\n",
        "                out_1 = transforms.functional.resize(out_1, size=skip_connection.shape[2:])\n",
        "\n",
        "            concat_skip = torch.cat((skip_connection, out_1), dim=1)\n",
        "            out_1 = self.decoder_1[idx+1](concat_skip)\n",
        "\n",
        "        for idx in range(0, len(self.decoder_2), 2):\n",
        "            out_2 = self.decoder_2[idx](out_2)\n",
        "            skip_connection = skip_connections[idx//2]\n",
        "\n",
        "            if out_2.shape != skip_connection.shape:\n",
        "                out_2 = transforms.functional.resize(out_2, size=skip_connection.shape[2:])\n",
        "\n",
        "            concat_skip = torch.cat((skip_connection, out_2), dim=1)\n",
        "            out_2 = self.decoder_2[idx+1](concat_skip)\n",
        "\n",
        "\n",
        "        return torch.sigmoid(self.final_conv_1(out_1)), torch.sigmoid(self.final_conv_2(out_2))"
      ],
      "metadata": {
        "id": "MzadWXPi2xmx"
      },
      "execution_count": 18,
      "outputs": []
    },
    {
      "cell_type": "code",
      "source": [
        "# vae = VAE(512).to(device)\n",
        "# AE = Autoencoder(16,128).to(device)\n",
        "unet = UNET(in_channels=3, out_channels=3, features=[32,64,128,256]).to(device)\n",
        "optimizer = optim.Adam(unet.parameters(),lr = 0.001)\n",
        "criterion = nn.MSELoss()"
      ],
      "metadata": {
        "id": "o5K7V3Uf23KM"
      },
      "execution_count": 19,
      "outputs": []
    },
    {
      "cell_type": "code",
      "source": [
        "def get_random_sample(dataset:torch.utils.data.Dataset) -> torch.Tensor:\n",
        "  '''\n",
        "  return random sample from given dataset\n",
        "  '''\n",
        "  batch_size = len(dataset)\n",
        "  rand = np.random.randint(batch_size)\n",
        "  return dataset[rand]"
      ],
      "metadata": {
        "id": "qmX8ZZ4l2513"
      },
      "execution_count": 24,
      "outputs": []
    },
    {
      "cell_type": "code",
      "source": [
        "\n",
        "epochs = 100\n",
        "\n",
        "unet.train()\n",
        "\n",
        "for epoch in tqdm(range(epochs)):\n",
        "\n",
        "  train_loss = 0.0\n",
        "  for x_1,x_2, mean_x in custom_loader:\n",
        "\n",
        "    x_1 = x_1.to(device)\n",
        "    x_2 = x_2.to(device)\n",
        "    mean_x = mean_x.to(device)\n",
        "\n",
        "    optimizer.zero_grad()\n",
        "\n",
        "    output_1, output_2 = unet(mean_x)\n",
        "\n",
        "    loss_1 = criterion(x_1,output_1)\n",
        "    loss_2 = criterion(x_2,output_2)\n",
        "\n",
        "    loss = loss_1 + loss_2\n",
        "\n",
        "    loss.backward()\n",
        "    train_loss += loss.item()\n",
        "    optimizer.step()\n",
        "\n",
        "  if epoch % 10 == 0:\n",
        "    print(f\"Loss: {train_loss:.4f}\")"
      ],
      "metadata": {
        "colab": {
          "base_uri": "https://localhost:8080/",
          "height": 223,
          "referenced_widgets": [
            "d380809e1ced49929d311388d21d931d",
            "23fe4496eccc41bbb95048c0573b5331",
            "973ab0b7f9524e0ab302a30f367e25e3",
            "18471c58daee4893bd86d216c72ccb05",
            "f9dc43f0aa50489085f1e611e86ce059",
            "934b745bf8694045b40ace6076923902",
            "b45e1e915efd4cb8a576aaa30772a510",
            "9f14b5c1b6b8490eb2108a30b062ea01",
            "f88d2dbd934b436bb5e861dcaa6b100d",
            "a2840956d872470faf117bc55d926568",
            "092495eb1aff4092ac54711505028915"
          ]
        },
        "id": "izTS4YIR27_v",
        "outputId": "a0402753-b27f-4650-c548-9b16543c5fa7"
      },
      "execution_count": 25,
      "outputs": [
        {
          "output_type": "display_data",
          "data": {
            "text/plain": [
              "  0%|          | 0/100 [00:00<?, ?it/s]"
            ],
            "application/vnd.jupyter.widget-view+json": {
              "version_major": 2,
              "version_minor": 0,
              "model_id": "d380809e1ced49929d311388d21d931d"
            }
          },
          "metadata": {}
        },
        {
          "output_type": "stream",
          "name": "stdout",
          "text": [
            "Loss: 1.8528\n",
            "Loss: 1.8050\n",
            "Loss: 1.5909\n",
            "Loss: 1.5084\n",
            "Loss: 1.4218\n",
            "Loss: 1.2912\n",
            "Loss: 1.2525\n",
            "Loss: 1.1775\n",
            "Loss: 1.1317\n",
            "Loss: 1.0519\n"
          ]
        }
      ]
    },
    {
      "cell_type": "markdown",
      "source": [
        "# INFERENCE"
      ],
      "metadata": {
        "id": "XUgxm_Mw3BG-"
      }
    },
    {
      "cell_type": "code",
      "source": [
        "def get_random_pair(first_subset: torch.utils.data.Dataset,\n",
        "                    second_subset: torch.utils.data.Dataset) -> tuple:\n",
        "\n",
        "  '''\n",
        "  return a random sample from each datasets and computes average of them\n",
        "  '''\n",
        "  (x_1,_),( x_2,_) = get_random_sample(first_subset), get_random_sample(second_subset)\n",
        "\n",
        "  img_1 = torch.permute(x_1,[1,2,0])\n",
        "  img_2 = torch.permute(x_2,[1,2,0])\n",
        "  mean_img = (img_1 + img_2)/2\n",
        "\n",
        "\n",
        "  return img_1, img_2, mean_img"
      ],
      "metadata": {
        "id": "TIyiPds33C6l"
      },
      "execution_count": 26,
      "outputs": []
    },
    {
      "cell_type": "code",
      "source": [
        "def test_model(model:torch.nn.Module,image_1:torch.Tensor,image_2:torch.Tensor, mean_image:torch.Tensor)-> None:\n",
        "  '''\n",
        "  Plot two images and averaged image, then inference the model on averaged image and plot the results\n",
        "\n",
        "  '''\n",
        "\n",
        "  fig, ax = plt.subplots(1,3,figsize=(10,5))\n",
        "\n",
        "  ax[0].imshow(image_1)\n",
        "  ax[0].set_title('Image 1')\n",
        "  ax[0].axis('off')\n",
        "\n",
        "  ax[1].imshow(image_2)\n",
        "  ax[1].set_title('Image 2')\n",
        "  ax[1].axis('off')\n",
        "\n",
        "  ax[2].imshow(mean_image)\n",
        "  ax[2].axis('off')\n",
        "  ax[2].set_title('Average Image ')\n",
        "\n",
        "\n",
        "\n",
        "  ## inference model\n",
        "  mean = torch.permute(mean_image,[2,0,1])\n",
        "  mean = torch.unsqueeze(mean,0).to(device)\n",
        "\n",
        "  model.eval()\n",
        "\n",
        "  output1, output2 = model(mean)\n",
        "\n",
        "  output1 = torch.permute(output1.squeeze(0),[1,2,0]).detach().cpu().numpy()\n",
        "  output2 = torch.permute(output2.squeeze(0),[1,2,0]).detach().cpu().numpy()\n",
        "\n",
        "\n",
        "  fig, ax = plt.subplots(1,2,figsize=(8,5))\n",
        "\n",
        "  ax[0].imshow(output1)\n",
        "  ax[0].set_title('Predicted Image 1')\n",
        "  ax[0].axis('off')\n",
        "\n",
        "  ax[1].imshow(output2)\n",
        "  ax[1].set_title('Predicted Image 2')\n",
        "  ax[1].axis('off')\n",
        "\n",
        "\n",
        "  plt.show()"
      ],
      "metadata": {
        "id": "pApTf-c43Dyb"
      },
      "execution_count": 27,
      "outputs": []
    },
    {
      "cell_type": "code",
      "source": [
        "\n",
        "image_1, image_2, mean_image = get_random_pair(first_subset,second_subset)\n",
        "\n",
        "test_model(unet,image_1, image_2, mean_image)"
      ],
      "metadata": {
        "colab": {
          "base_uri": "https://localhost:8080/",
          "height": 611
        },
        "id": "9C9cEJMw3IVo",
        "outputId": "c5917660-3fc7-4b6c-fd89-85121846b97f"
      },
      "execution_count": 28,
      "outputs": [
        {
          "output_type": "display_data",
          "data": {
            "text/plain": [
              "<Figure size 1000x500 with 3 Axes>"
            ],
            "image/png": "[encoded data removed]"
          },
          "metadata": {}
        },
        {
          "output_type": "display_data",
          "data": {
            "text/plain": [
              "<Figure size 800x500 with 2 Axes>"
            ],
            "image/png": "[encoded data removed]"
          },
          "metadata": {}
        }
      ]
    },
    {
      "cell_type": "markdown",
      "source": [
        "# MODEL evaluation on test set"
      ],
      "metadata": {
        "id": "0E_Ada6S3NcL"
      }
    },
    {
      "cell_type": "code",
      "source": [
        "\n",
        "first_testsubset_idx = create_subset(test_dataset,[0,1,2,3,4],1000)\n",
        "second_testsubset_idx = create_subset(test_dataset,[5,6,7,8,9],1000)\n",
        "\n",
        "first_testsubset = Subset(dataset=test_dataset,indices=first_testsubset_idx)\n",
        "second_testsubset = Subset(dataset=test_dataset,indices=second_testsubset_idx)"
      ],
      "metadata": {
        "id": "L_qUVo1K3LMr"
      },
      "execution_count": 29,
      "outputs": []
    },
    {
      "cell_type": "code",
      "source": [
        "image_1, image_2, mean_image = get_random_pair(first_testsubset,second_testsubset)\n",
        "\n",
        "test_model(unet,image_1, image_2, mean_image)"
      ],
      "metadata": {
        "colab": {
          "base_uri": "https://localhost:8080/",
          "height": 611
        },
        "id": "qo0yhaYO3X79",
        "outputId": "fa1b4980-83b1-4692-b238-3d40a465fa81"
      },
      "execution_count": 30,
      "outputs": [
        {
          "output_type": "display_data",
          "data": {
            "text/plain": [
              "<Figure size 1000x500 with 3 Axes>"
            ],
            "image/png": "[encoded data removed]"
          },
          "metadata": {}
        },
        {
          "output_type": "display_data",
          "data": {
            "text/plain": [
              "<Figure size 800x500 with 2 Axes>"
            ],
            "image/png": "[encoded data removed]"
          },
          "metadata": {}
        }
      ]
    },
    {
      "cell_type": "code",
      "source": [
        "def compute_test_loss(model,test_dataset,criterion)-> float:\n",
        "  \"\"\"\n",
        "  Compute loss on given test dataset\n",
        "  \"\"\"\n",
        "  model.eval()\n",
        "  test_loss = 0\n",
        "  with torch.no_grad():\n",
        "    for x_1,x_2, mean_x in test_dataset:\n",
        "      x_1 = x_1.to(device)\n",
        "      x_2 = x_2.to(device)\n",
        "      mean_x = mean_x.to(device)\n",
        "\n",
        "      out1, out2 = model(mean_x)\n",
        "\n",
        "      loss_1 = criterion(x_1,out1)\n",
        "      loss_2 = criterion(x_2,out2)\n",
        "\n",
        "      loss = loss_1 + loss_2\n",
        "\n",
        "      test_loss += loss.item()\n",
        "\n",
        "  return test_loss"
      ],
      "metadata": {
        "id": "yHmJNfFh3ai3"
      },
      "execution_count": 31,
      "outputs": []
    },
    {
      "cell_type": "code",
      "source": [
        "custom_testdataset = CustomDataset(first_testsubset,second_testsubset)\n",
        "custom_test_loader = DataLoader(dataset = custom_testdataset,batch_size = 32,shuffle = True,pin_memory=True)\n",
        "\n",
        "test_loss = compute_test_loss(unet,custom_test_loader,criterion)\n",
        "\n",
        "print(f'Test Loss: {test_loss:.4f}')"
      ],
      "metadata": {
        "colab": {
          "base_uri": "https://localhost:8080/"
        },
        "id": "Fso0fJwz3dDQ",
        "outputId": "48fc0080-8212-41df-b845-5e17dfdf6df1"
      },
      "execution_count": 32,
      "outputs": [
        {
          "output_type": "stream",
          "name": "stdout",
          "text": [
            "Test Loss: 21.8200\n"
          ]
        }
      ]
    }
  ]
}